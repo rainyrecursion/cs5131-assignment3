{
 "cells": [
  {
   "cell_type": "markdown",
   "metadata": {},
   "source": [
    "# CS5131 Assignment 3"
   ]
  },
  {
   "cell_type": "markdown",
   "metadata": {},
   "source": [
    "## Information\n",
    "**Problem description:** Placeholder\n",
    "\n",
    "**Objective:** Placeholder\n",
    "\n",
    "**Team members:** Li Yi Cheng (M20503) and Ranen Chow (M20504)\n",
    "\n",
    "**Methodology:** Supervised learning\n",
    "\n",
    "**Category:** Regression and Classification\n",
    "\n",
    "**Data:** [pH Recognition Data from Kaggle](https://www.kaggle.com/robjan/ph-recognition)"
   ]
  },
  {
   "cell_type": "markdown",
   "metadata": {},
   "source": [
    "## Import Libraries"
   ]
  },
  {
   "cell_type": "code",
   "execution_count": 3,
   "metadata": {},
   "outputs": [],
   "source": [
    "import numpy as np\n",
    "import pandas as pd\n",
    "import matplotlib.pyplot as plt\n",
    "%matplotlib inline\n",
    "\n",
    "from sklearn.model_selection import train_test_split\n",
    "from sklearn.linear_model import LinearRegression\n",
    "from sklearn.preprocessing import PolynomialFeatures\n",
    "from sklearn.metrics import mean_squared_error, r2_score, accuracy_score\n",
    "from sklearn.neighbors import KNeighborsClassifier, RadiusNeighborsClassifier\n",
    "from sklearn.svm import SVC\n",
    "from sklearn.gaussian_process import GaussianProcessClassifier\n",
    "\n",
    "from math import sqrt\n",
    "\n",
    "# Add any other libraries you are importing here later"
   ]
  },
  {
   "cell_type": "markdown",
   "metadata": {},
   "source": [
    "## Read Data"
   ]
  },
  {
   "cell_type": "code",
   "execution_count": 4,
   "metadata": {},
   "outputs": [
    {
     "data": {
      "text/html": [
       "<div>\n",
       "<style scoped>\n",
       "    .dataframe tbody tr th:only-of-type {\n",
       "        vertical-align: middle;\n",
       "    }\n",
       "\n",
       "    .dataframe tbody tr th {\n",
       "        vertical-align: top;\n",
       "    }\n",
       "\n",
       "    .dataframe thead th {\n",
       "        text-align: right;\n",
       "    }\n",
       "</style>\n",
       "<table border=\"1\" class=\"dataframe\">\n",
       "  <thead>\n",
       "    <tr style=\"text-align: right;\">\n",
       "      <th></th>\n",
       "      <th>blue</th>\n",
       "      <th>green</th>\n",
       "      <th>red</th>\n",
       "      <th>label</th>\n",
       "    </tr>\n",
       "  </thead>\n",
       "  <tbody>\n",
       "    <tr>\n",
       "      <td>0</td>\n",
       "      <td>36</td>\n",
       "      <td>27</td>\n",
       "      <td>231</td>\n",
       "      <td>0</td>\n",
       "    </tr>\n",
       "    <tr>\n",
       "      <td>1</td>\n",
       "      <td>36</td>\n",
       "      <td>84</td>\n",
       "      <td>250</td>\n",
       "      <td>1</td>\n",
       "    </tr>\n",
       "    <tr>\n",
       "      <td>2</td>\n",
       "      <td>37</td>\n",
       "      <td>164</td>\n",
       "      <td>255</td>\n",
       "      <td>2</td>\n",
       "    </tr>\n",
       "    <tr>\n",
       "      <td>3</td>\n",
       "      <td>22</td>\n",
       "      <td>205</td>\n",
       "      <td>255</td>\n",
       "      <td>3</td>\n",
       "    </tr>\n",
       "    <tr>\n",
       "      <td>4</td>\n",
       "      <td>38</td>\n",
       "      <td>223</td>\n",
       "      <td>221</td>\n",
       "      <td>4</td>\n",
       "    </tr>\n",
       "  </tbody>\n",
       "</table>\n",
       "</div>"
      ],
      "text/plain": [
       "   blue  green  red  label\n",
       "0    36     27  231      0\n",
       "1    36     84  250      1\n",
       "2    37    164  255      2\n",
       "3    22    205  255      3\n",
       "4    38    223  221      4"
      ]
     },
     "execution_count": 4,
     "metadata": {},
     "output_type": "execute_result"
    }
   ],
   "source": [
    "df = pd.read_csv(\"ph-data.csv\") # Place the csv file IN THE SAME FOLDER as this file\n",
    "df.head()"
   ]
  },
  {
   "cell_type": "code",
   "execution_count": null,
   "metadata": {},
   "outputs": [],
   "source": [
    "df.describe(include='all')"
   ]
  },
  {
   "cell_type": "markdown",
   "metadata": {},
   "source": [
    "## Exploratory Data Analysis (EDA)"
   ]
  },
  {
   "cell_type": "code",
   "execution_count": null,
   "metadata": {},
   "outputs": [],
   "source": []
  },
  {
   "cell_type": "markdown",
   "metadata": {},
   "source": [
    "## Data Visualisation"
   ]
  },
  {
   "cell_type": "code",
   "execution_count": 5,
   "metadata": {
    "scrolled": true
   },
   "outputs": [
    {
     "data": {
      "image/png": "[encoded data removed]",
      "text/plain": [
       "<Figure size 432x288 with 3 Axes>"
      ]
     },
     "metadata": {
      "needs_background": "light"
     },
     "output_type": "display_data"
    }
   ],
   "source": [
    "fig, ax = plt.subplots(3)\n",
    "ax[0].scatter(df.label,df.blue)\n",
    "ax[1].scatter(df.label,df.green,color='green')\n",
    "ax[2].scatter(df.label,df.red,color='red')\n",
    "\n",
    "plt.show()"
   ]
  },
  {
   "cell_type": "markdown",
   "metadata": {},
   "source": [
    "## Splitting Data for Training and Testing"
   ]
  },
  {
   "cell_type": "code",
   "execution_count": 6,
   "metadata": {},
   "outputs": [],
   "source": [
    "X = df.drop('label', axis=1).values\n",
    "y = df['label'].values\n",
    "\n",
    "X_train, X_test, y_train, y_test = train_test_split(X, y, random_state=1, stratify=y)"
   ]
  },
  {
   "cell_type": "markdown",
   "metadata": {},
   "source": [
    "## Testing Different Machine Learning (ML) Models\n",
    "Since the problem can be formulated as a classification problem or a regression problem, we try both classification models and regression models."
   ]
  },
  {
   "cell_type": "markdown",
   "metadata": {},
   "source": [
    "### Classification Models"
   ]
  },
  {
   "cell_type": "markdown",
   "metadata": {},
   "source": [
    "#### K-Nearest Neighbors Classifier"
   ]
  },
  {
   "cell_type": "markdown",
   "metadata": {},
   "source": [
    "**Firstly,** we try different k-values, using the *uniform* (the default) weights function."
   ]
  },
  {
   "cell_type": "code",
   "execution_count": null,
   "metadata": {},
   "outputs": [],
   "source": [
    "k_range = range(1, 26)\n",
    "uniform_accuracy_scores = []\n",
    "\n",
    "for k in k_range:\n",
    "    knn = KNeighborsClassifier(n_neighbors=k)\n",
    "    knn.fit(X_train, y_train)\n",
    "    y_pred = knn.predict(X_test)\n",
    "    uniform_accuracy_scores.append(accuracy_score(y_pred, y_test))"
   ]
  },
  {
   "cell_type": "markdown",
   "metadata": {},
   "source": [
    "We plot a graph using matplotlib to compare accuracy between different K values."
   ]
  },
  {
   "cell_type": "code",
   "execution_count": null,
   "metadata": {},
   "outputs": [],
   "source": [
    "plt.plot(k_range, uniform_accuracy_scores)\n",
    "plt.xlabel('Value of K for KNN')\n",
    "plt.ylabel('Accuracy Score')\n",
    "plt.xticks(np.arange(1, 26))  # makes x-axis values integers\n",
    "plt.title(\"Accuracy Scores for KNN Classifier (uniform weight function)\")\n",
    "plt.show()"
   ]
  },
  {
   "cell_type": "markdown",
   "metadata": {},
   "source": [
    "It appears that a k value of 4 produces the highest accuracy."
   ]
  },
  {
   "cell_type": "markdown",
   "metadata": {},
   "source": [
    "**Secondly,** we try changing the weight function to *'distance'*. This means that the model will \"weight points by the inverse of their distance.... closer neighbors of a query point will have a greater influence than neighbors which are further away.\" (Source: [sklearn.neighbors.KNeighborsClassifier documentation](https://scikit-learn.org/stable/modules/generated/sklearn.neighbors.KNeighborsClassifier.html#sklearn.neighbors.KNeighborsClassifier))\n",
    "\n",
    "The models made above used a uniform (the default) weights function."
   ]
  },
  {
   "cell_type": "code",
   "execution_count": null,
   "metadata": {},
   "outputs": [],
   "source": [
    "distance_accuracy_scores = []\n",
    "\n",
    "for k in k_range:\n",
    "    knn = KNeighborsClassifier(n_neighbors=k, weights='distance')\n",
    "    knn.fit(X_train, y_train)\n",
    "    y_pred = knn.predict(X_test)\n",
    "    distance_accuracy_scores.append(accuracy_score(y_pred, y_test))"
   ]
  },
  {
   "cell_type": "markdown",
   "metadata": {},
   "source": [
    "Once again, we plot a graph using matplotlib to compare accuracy between different K values."
   ]
  },
  {
   "cell_type": "code",
   "execution_count": null,
   "metadata": {},
   "outputs": [],
   "source": [
    "plt.plot(k_range, distance_accuracy_scores)\n",
    "plt.xlabel('Value of K for KNN')\n",
    "plt.ylabel('Accuracy Score')\n",
    "plt.xticks(np.arange(1, 26))  # makes x-axis values integers\n",
    "plt.title(\"Accuracy Scores for KNN Classifier (distance weight function)\")\n",
    "plt.show()"
   ]
  },
  {
   "cell_type": "markdown",
   "metadata": {},
   "source": [
    "This time, it appears that $k=20$ produces the best accuracy score."
   ]
  },
  {
   "cell_type": "markdown",
   "metadata": {},
   "source": [
    "Finally, let us compare accuracy scores between the two different weight functions."
   ]
  },
  {
   "cell_type": "code",
   "execution_count": null,
   "metadata": {},
   "outputs": [],
   "source": [
    "plt.plot(k_range, uniform_accuracy_scores, label='uniform')\n",
    "plt.plot(k_range, distance_accuracy_scores, label='distance')\n",
    "plt.xlabel('Value of K for KNN')\n",
    "plt.ylabel('Accuracy Score')\n",
    "plt.xticks(np.arange(1, 26))  # makes x-axis values integers\n",
    "plt.title(\"Accuracy Scores for KNN Classifier (both weight functions)\")\n",
    "plt.legend()\n",
    "plt.show()"
   ]
  },
  {
   "cell_type": "markdown",
   "metadata": {},
   "source": [
    "From the table above, we can see that the KNN Classifier model with the highest accuracy score is one where $k=20$ and the distance weight function is used. "
   ]
  },
  {
   "cell_type": "code",
   "execution_count": null,
   "metadata": {},
   "outputs": [],
   "source": [
    "knn_classifier_best = KNeighborsClassifier(n_neighbors=20, weights='distance')\n",
    "knn_classifier_best.fit(X_train, y_train)\n",
    "y_pred = knn_classifier_best.predict(X_test)\n",
    "print(accuracy_score(y_test, y_pred))"
   ]
  },
  {
   "cell_type": "markdown",
   "metadata": {},
   "source": [
    "#### SVC"
   ]
  },
  {
   "cell_type": "markdown",
   "metadata": {},
   "source": [
    "Firstly, we try linear kernel type."
   ]
  },
  {
   "cell_type": "code",
   "execution_count": 8,
   "metadata": {},
   "outputs": [
    {
     "name": "stdout",
     "output_type": "stream",
     "text": [
      "Accuracy score for linear kernal type is 0.6097560975609756\n"
     ]
    }
   ],
   "source": [
    "# LINEAR KERNEL\n",
    "svc_linear = SVC(kernel='linear')\n",
    "svc_linear.fit(X_train, y_train)\n",
    "y_pred = svc_linear.predict(X_test)\n",
    "print(\"Accuracy score for linear kernal type is\", accuracy_score(y_test, y_pred))"
   ]
  },
  {
   "cell_type": "markdown",
   "metadata": {},
   "source": [
    "Secondly, we try poly kernel type. We look at different degrees."
   ]
  },
  {
   "cell_type": "code",
   "execution_count": 20,
   "metadata": {},
   "outputs": [
    {
     "name": "stdout",
     "output_type": "stream",
     "text": [
      "Accuracy score for poly kernal type with degree 2 is 0.6463414634146342\n",
      "Accuracy score for poly kernal type with degree 3 is 0.725609756097561\n",
      "Accuracy score for poly kernal type with degree 4 is 0.7134146341463414\n",
      "Accuracy score for poly kernal type with degree 5 is 0.7134146341463414\n",
      "Accuracy score for poly kernal type with degree 6 is 0.7012195121951219\n",
      "Accuracy score for poly kernal type with degree 7 is 0.7012195121951219\n"
     ]
    }
   ],
   "source": [
    "degree_range = range(2, 8)\n",
    "\n",
    "for d in degree_range:\n",
    "    svc_poly = SVC(kernel='poly', degree=d, gamma='scale')\n",
    "    svc_poly.fit(X_train, y_train)\n",
    "    y_pred = svc_poly.predict(X_test)\n",
    "    print(\"Accuracy score for poly kernal type with degree\", d, \"is\", accuracy_score(y_test, y_pred))"
   ]
  },
  {
   "cell_type": "markdown",
   "metadata": {},
   "source": [
    "Thirdly, we try rbf kernel type."
   ]
  },
  {
   "cell_type": "code",
   "execution_count": 10,
   "metadata": {},
   "outputs": [
    {
     "name": "stdout",
     "output_type": "stream",
     "text": [
      "Accuracy score for rbf kernal type is 0.676829268292683\n"
     ]
    }
   ],
   "source": [
    "svc_rbf = SVC(kernel='rbf', gamma='scale')\n",
    "svc_rbf.fit(X_train, y_train)\n",
    "y_pred = svc_rbf.predict(X_test)\n",
    "print(\"Accuracy score for rbf kernal type is\", accuracy_score(y_test, y_pred))"
   ]
  },
  {
   "cell_type": "markdown",
   "metadata": {},
   "source": [
    "Fourthly, we try sigmoid kernel type."
   ]
  },
  {
   "cell_type": "code",
   "execution_count": 14,
   "metadata": {},
   "outputs": [
    {
     "name": "stdout",
     "output_type": "stream",
     "text": [
      "Accuracy score for sigmoid kernal type is 0.07317073170731707\n"
     ]
    }
   ],
   "source": [
    "svc_sigmoid = SVC(kernel='sigmoid', gamma='scale')\n",
    "svc_sigmoid.fit(X_train, y_train)\n",
    "y_pred = svc_sigmoid.predict(X_test)\n",
    "print(\"Accuracy score for sigmoid kernal type is\", accuracy_score(y_test, y_pred))"
   ]
  },
  {
   "cell_type": "markdown",
   "metadata": {},
   "source": [
    "As we can see, the best SVC model is one with poly kernel type with a degree of 3."
   ]
  },
  {
   "cell_type": "code",
   "execution_count": 22,
   "metadata": {},
   "outputs": [
    {
     "name": "stdout",
     "output_type": "stream",
     "text": [
      "0.725609756097561\n"
     ]
    }
   ],
   "source": [
    "svc_best = SVC(kernel='poly', degree=3, gamma='scale')\n",
    "svc_best.fit(X_train, y_train)\n",
    "y_pred = svc_best.predict(X_test)\n",
    "print(accuracy_score(y_test, y_pred))"
   ]
  },
  {
   "cell_type": "markdown",
   "metadata": {},
   "source": [
    "#### Gaussian Process Classification"
   ]
  },
  {
   "cell_type": "code",
   "execution_count": null,
   "metadata": {},
   "outputs": [],
   "source": [
    "gpc = GaussianProcessClassifier()"
   ]
  },
  {
   "cell_type": "markdown",
   "metadata": {},
   "source": [
    "### Regression Models"
   ]
  },
  {
   "cell_type": "markdown",
   "metadata": {},
   "source": [
    "#### Model A (Change to name of model you are using e.g. K-Nearest Neighbors)"
   ]
  },
  {
   "cell_type": "code",
   "execution_count": null,
   "metadata": {},
   "outputs": [],
   "source": [
    "pH = df.label[:,np.newaxis]\n",
    "blue = df.blue[:,np.newaxis]\n",
    "green = df.green[:,np.newaxis]\n",
    "red = df.red[:,np.newaxis]\n",
    "\n",
    "\n",
    "polynomialfeatures = PolynomialFeatures(degree = 6)\n",
    "blue = polynomialfeatures.fit_transform(blue)\n",
    "green = polynomialfeatures.fit_transform(green)\n",
    "red = polynomialfeatures.fit_transform(red)\n",
    "\n",
    "blue_train, blue_test, pH_blue_train, pH_blue_test = train_test_split(blue,pH,test_size=0.2)\n",
    "green_train, green_test, pH_green_train, pH_green_test = train_test_split(blue,pH,test_size=0.2)\n",
    "red_train, red_test, pH_red_train, pH_red_test = train_test_split(blue,pH,test_size=0.2)\n",
    "\n",
    "\n",
    "bluemodel = LinearRegression()\n",
    "bluemodel.fit(blue_train,pH_blue_train)\n",
    "pH_blue_predict = bluemodel.predict(blue_test)\n",
    "\n",
    "greenmodel = LinearRegression()\n",
    "greenmodel.fit(green_train,pH_green_train)\n",
    "pH_green_predict = greenmodel.predict(green_test)\n",
    "\n",
    "redmodel = LinearRegression()\n",
    "redmodel.fit(red_train,pH_red_train)\n",
    "pH_red_predict = redmodel.predict(red_test)\n",
    "\n",
    "bluermse = np.sqrt(mean_squared_error(pH_blue_test,pH_blue_predict))\n",
    "bluer2 = r2_score(pH_blue_test,pH_blue_predict)\n",
    "\n",
    "greenrmse = np.sqrt(mean_squared_error(pH_green_test,pH_green_predict))\n",
    "greenr2 = r2_score(pH_green_test,pH_green_predict)\n",
    "\n",
    "redrmse = np.sqrt(mean_squared_error(pH_red_test,pH_red_predict))\n",
    "redr2 = r2_score(pH_red_test,pH_red_predict)\n",
    "\n",
    "print (\"Blue root mean squared error: \" + str(bluermse))\n",
    "print (\"Blue r squared value: \" + str(bluer2))\n",
    "print (\"Green root mean squared error: \" + str(greenrmse))\n",
    "print (\"Green r squared value: \" + str(greenr2))\n",
    "print (\"Red root mean squared error: \" + str(redrmse))\n",
    "print (\"Red r squared value: \" + str(redr2))"
   ]
  },
  {
   "cell_type": "code",
   "execution_count": null,
   "metadata": {},
   "outputs": [],
   "source": [
    "lin_reg = LinearRegression()\n",
    "lin_reg.fit(X_train, y_train)\n",
    "y_pred = lin_reg.predict(X_test)\n",
    "rmse = sqrt(mean_squared_error(y_test, y_pred))\n",
    "print(rmse)"
   ]
  },
  {
   "cell_type": "markdown",
   "metadata": {},
   "source": [
    "## Final Model"
   ]
  },
  {
   "cell_type": "code",
   "execution_count": null,
   "metadata": {},
   "outputs": [],
   "source": []
  }
 ],
 "metadata": {
  "kernelspec": {
   "display_name": "Python 3",
   "language": "python",
   "name": "python3"
  }
 },
 "nbformat": 4,
 "nbformat_minor": 2
}
