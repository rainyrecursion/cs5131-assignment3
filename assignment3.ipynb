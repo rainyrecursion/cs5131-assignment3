{
 "cells": [
  {
   "cell_type": "markdown",
   "metadata": {},
   "source": [
    "# CS5131 Assignment 3"
   ]
  },
  {
   "cell_type": "markdown",
   "metadata": {},
   "source": [
    "## Information\n",
    "**Problem description:** Placeholder\n",
    "\n",
    "**Objective:** Placeholder\n",
    "\n",
    "**Team members:** Li Yi Cheng (M20503) and Ranen Chow (M20504)\n",
    "\n",
    "**Methodology:** Supervised learning\n",
    "\n",
    "**Category:** Regression and Classification\n",
    "\n",
    "**Data:** [pH Recognition Data from Kaggle](https://www.kaggle.com/robjan/ph-recognition)"
   ]
  },
  {
   "cell_type": "markdown",
   "metadata": {},
   "source": [
    "## Import Libraries"
   ]
  },
  {
   "cell_type": "code",
   "execution_count": 12,
   "metadata": {},
   "outputs": [],
   "source": [
    "import numpy as np\n",
    "import pandas as pd\n",
    "import matplotlib.pyplot as plt\n",
    "%matplotlib inline\n",
    "\n",
    "from sklearn.model_selection import train_test_split\n",
    "from sklearn.linear_model import LinearRegression\n",
    "from sklearn.preprocessing import PolynomialFeatures\n",
    "from sklearn.metrics import mean_squared_error, r2_score, accuracy_score\n",
    "from sklearn.neighbors import KNeighborsClassifier\n",
    "\n",
    "from math import sqrt\n",
    "\n",
    "# Add any other libraries you are importing here later"
   ]
  },
  {
   "cell_type": "markdown",
   "metadata": {},
   "source": [
    "## Read Data"
   ]
  },
  {
   "cell_type": "code",
   "execution_count": 4,
   "metadata": {},
   "outputs": [
    {
     "data": {
      "text/html": [
       "<div>\n",
       "<style scoped>\n",
       "    .dataframe tbody tr th:only-of-type {\n",
       "        vertical-align: middle;\n",
       "    }\n",
       "\n",
       "    .dataframe tbody tr th {\n",
       "        vertical-align: top;\n",
       "    }\n",
       "\n",
       "    .dataframe thead th {\n",
       "        text-align: right;\n",
       "    }\n",
       "</style>\n",
       "<table border=\"1\" class=\"dataframe\">\n",
       "  <thead>\n",
       "    <tr style=\"text-align: right;\">\n",
       "      <th></th>\n",
       "      <th>blue</th>\n",
       "      <th>green</th>\n",
       "      <th>red</th>\n",
       "      <th>label</th>\n",
       "    </tr>\n",
       "  </thead>\n",
       "  <tbody>\n",
       "    <tr>\n",
       "      <td>0</td>\n",
       "      <td>36</td>\n",
       "      <td>27</td>\n",
       "      <td>231</td>\n",
       "      <td>0</td>\n",
       "    </tr>\n",
       "    <tr>\n",
       "      <td>1</td>\n",
       "      <td>36</td>\n",
       "      <td>84</td>\n",
       "      <td>250</td>\n",
       "      <td>1</td>\n",
       "    </tr>\n",
       "    <tr>\n",
       "      <td>2</td>\n",
       "      <td>37</td>\n",
       "      <td>164</td>\n",
       "      <td>255</td>\n",
       "      <td>2</td>\n",
       "    </tr>\n",
       "    <tr>\n",
       "      <td>3</td>\n",
       "      <td>22</td>\n",
       "      <td>205</td>\n",
       "      <td>255</td>\n",
       "      <td>3</td>\n",
       "    </tr>\n",
       "    <tr>\n",
       "      <td>4</td>\n",
       "      <td>38</td>\n",
       "      <td>223</td>\n",
       "      <td>221</td>\n",
       "      <td>4</td>\n",
       "    </tr>\n",
       "  </tbody>\n",
       "</table>\n",
       "</div>"
      ],
      "text/plain": [
       "   blue  green  red  label\n",
       "0    36     27  231      0\n",
       "1    36     84  250      1\n",
       "2    37    164  255      2\n",
       "3    22    205  255      3\n",
       "4    38    223  221      4"
      ]
     },
     "execution_count": 4,
     "metadata": {},
     "output_type": "execute_result"
    }
   ],
   "source": [
    "df = pd.read_csv(\"ph-data.csv\") # Place the csv file IN THE SAME FOLDER as this file\n",
    "df.head()"
   ]
  },
  {
   "cell_type": "code",
   "execution_count": 5,
   "metadata": {},
   "outputs": [
    {
     "data": {
      "text/html": [
       "<div>\n",
       "<style scoped>\n",
       "    .dataframe tbody tr th:only-of-type {\n",
       "        vertical-align: middle;\n",
       "    }\n",
       "\n",
       "    .dataframe tbody tr th {\n",
       "        vertical-align: top;\n",
       "    }\n",
       "\n",
       "    .dataframe thead th {\n",
       "        text-align: right;\n",
       "    }\n",
       "</style>\n",
       "<table border=\"1\" class=\"dataframe\">\n",
       "  <thead>\n",
       "    <tr style=\"text-align: right;\">\n",
       "      <th></th>\n",
       "      <th>blue</th>\n",
       "      <th>green</th>\n",
       "      <th>red</th>\n",
       "      <th>label</th>\n",
       "    </tr>\n",
       "  </thead>\n",
       "  <tbody>\n",
       "    <tr>\n",
       "      <td>count</td>\n",
       "      <td>653.000000</td>\n",
       "      <td>653.000000</td>\n",
       "      <td>653.000000</td>\n",
       "      <td>653.000000</td>\n",
       "    </tr>\n",
       "    <tr>\n",
       "      <td>mean</td>\n",
       "      <td>89.290965</td>\n",
       "      <td>130.094946</td>\n",
       "      <td>120.655436</td>\n",
       "      <td>7.055130</td>\n",
       "    </tr>\n",
       "    <tr>\n",
       "      <td>std</td>\n",
       "      <td>74.974850</td>\n",
       "      <td>72.487085</td>\n",
       "      <td>89.581264</td>\n",
       "      <td>4.287951</td>\n",
       "    </tr>\n",
       "    <tr>\n",
       "      <td>min</td>\n",
       "      <td>0.000000</td>\n",
       "      <td>0.000000</td>\n",
       "      <td>0.000000</td>\n",
       "      <td>0.000000</td>\n",
       "    </tr>\n",
       "    <tr>\n",
       "      <td>25%</td>\n",
       "      <td>22.000000</td>\n",
       "      <td>68.000000</td>\n",
       "      <td>52.000000</td>\n",
       "      <td>3.000000</td>\n",
       "    </tr>\n",
       "    <tr>\n",
       "      <td>50%</td>\n",
       "      <td>67.000000</td>\n",
       "      <td>146.000000</td>\n",
       "      <td>90.000000</td>\n",
       "      <td>7.000000</td>\n",
       "    </tr>\n",
       "    <tr>\n",
       "      <td>75%</td>\n",
       "      <td>162.000000</td>\n",
       "      <td>189.000000</td>\n",
       "      <td>224.000000</td>\n",
       "      <td>11.000000</td>\n",
       "    </tr>\n",
       "    <tr>\n",
       "      <td>max</td>\n",
       "      <td>255.000000</td>\n",
       "      <td>255.000000</td>\n",
       "      <td>255.000000</td>\n",
       "      <td>14.000000</td>\n",
       "    </tr>\n",
       "  </tbody>\n",
       "</table>\n",
       "</div>"
      ],
      "text/plain": [
       "             blue       green         red       label\n",
       "count  653.000000  653.000000  653.000000  653.000000\n",
       "mean    89.290965  130.094946  120.655436    7.055130\n",
       "std     74.974850   72.487085   89.581264    4.287951\n",
       "min      0.000000    0.000000    0.000000    0.000000\n",
       "25%     22.000000   68.000000   52.000000    3.000000\n",
       "50%     67.000000  146.000000   90.000000    7.000000\n",
       "75%    162.000000  189.000000  224.000000   11.000000\n",
       "max    255.000000  255.000000  255.000000   14.000000"
      ]
     },
     "execution_count": 5,
     "metadata": {},
     "output_type": "execute_result"
    }
   ],
   "source": [
    "df.describe(include='all')"
   ]
  },
  {
   "cell_type": "markdown",
   "metadata": {},
   "source": [
    "## Exploratory Data Analysis (EDA)"
   ]
  },
  {
   "cell_type": "code",
   "execution_count": null,
   "metadata": {},
   "outputs": [],
   "source": []
  },
  {
   "cell_type": "markdown",
   "metadata": {},
   "source": [
    "## Data Visualisation"
   ]
  },
  {
   "cell_type": "code",
   "execution_count": 16,
   "metadata": {
    "scrolled": true
   },
   "outputs": [
    {
     "data": {
      "text/plain": [
       "<function matplotlib.pyplot.show(*args, **kw)>"
      ]
     },
     "execution_count": 16,
     "metadata": {},
     "output_type": "execute_result"
    },
    {
     "data": {
      "image/png": "[encoded data removed]",
      "text/plain": [
       "<Figure size 432x288 with 3 Axes>"
      ]
     },
     "metadata": {
      "needs_background": "light"
     },
     "output_type": "display_data"
    }
   ],
   "source": [
    "fig, ax = plt.subplots(3)\n",
    "ax[0].scatter(df.label,df.blue)\n",
    "ax[1].scatter(df.label,df.green,color='green')\n",
    "ax[2].scatter(df.label,df.red,color='red')\n",
    "\n",
    "plt.show"
   ]
  },
  {
   "cell_type": "markdown",
   "metadata": {},
   "source": [
    "## Splitting Data for Training and Testing"
   ]
  },
  {
   "cell_type": "code",
   "execution_count": 13,
   "metadata": {},
   "outputs": [],
   "source": [
    "X = df.drop('label', axis=1).values\n",
    "y = df['label'].values\n",
    "\n",
    "X_train, X_test, y_train, y_test = train_test_split(X, y, random_state=1, stratify=y)"
   ]
  },
  {
   "cell_type": "markdown",
   "metadata": {},
   "source": [
    "## Testing Different Machine Learning (ML) Models\n",
    "Since the problem can be formulated as a classification problem or a regression problem, we try both classification models and regression models."
   ]
  },
  {
   "cell_type": "markdown",
   "metadata": {},
   "source": [
    "### Classification Models"
   ]
  },
  {
   "cell_type": "markdown",
   "metadata": {},
   "source": [
    "#### K-Nearest Neighbors Classification"
   ]
  },
  {
   "cell_type": "markdown",
   "metadata": {},
   "source": [
    "**Firstly,** we try different k-values, using the *uniform* (the default) weights function."
   ]
  },
  {
   "cell_type": "code",
   "execution_count": 38,
   "metadata": {},
   "outputs": [],
   "source": [
    "k_range = range(1, 26)\n",
    "uniform_accuracy_scores = []\n",
    "\n",
    "for k in k_range:\n",
    "    knn = KNeighborsClassifier(n_neighbors=k)\n",
    "    knn.fit(X_train, y_train)\n",
    "    y_pred = knn.predict(X_test)\n",
    "    uniform_accuracy_scores.append(accuracy_score(y_pred, y_test))"
   ]
  },
  {
   "cell_type": "markdown",
   "metadata": {},
   "source": [
    "We plot a graph using matplotlib to compare accuracy between different K values."
   ]
  },
  {
   "cell_type": "code",
   "execution_count": 45,
   "metadata": {},
   "outputs": [
    {
     "data": {
      "image/png": "[encoded data removed]",
      "text/plain": [
       "<Figure size 432x288 with 1 Axes>"
      ]
     },
     "metadata": {
      "needs_background": "light"
     },
     "output_type": "display_data"
    }
   ],
   "source": [
    "plt.plot(k_range, uniform_accuracy_scores)\n",
    "plt.xlabel('Value of K for KNN')\n",
    "plt.ylabel('Accuracy Score')\n",
    "plt.xticks(np.arange(1, 26))  # makes x-axis values integers\n",
    "plt.title(\"Accuracy Scores for KNN Classifier (uniform weight function)\")\n",
    "plt.show()"
   ]
  },
  {
   "cell_type": "markdown",
   "metadata": {},
   "source": [
    "It appears that a k value of 4 produces the highest accuracy."
   ]
  },
  {
   "cell_type": "markdown",
   "metadata": {},
   "source": [
    "**Secondly,** we try changing the weight function to *'distance'*. This means that the model will \"weight points by the inverse of their distance.... closer neighbors of a query point will have a greater influence than neighbors which are further away.\" (Source: [sklearn.neighbors.KNeighborsClassifier documentation](https://scikit-learn.org/stable/modules/generated/sklearn.neighbors.KNeighborsClassifier.html#sklearn.neighbors.KNeighborsClassifier))\n",
    "\n",
    "The models made above used a uniform (the default) weights function."
   ]
  },
  {
   "cell_type": "code",
   "execution_count": 47,
   "metadata": {},
   "outputs": [],
   "source": [
    "distance_accuracy_scores = []\n",
    "\n",
    "for k in k_range:\n",
    "    knn = KNeighborsClassifier(n_neighbors=k, weights='distance')\n",
    "    knn.fit(X_train, y_train)\n",
    "    y_pred = knn.predict(X_test)\n",
    "    distance_accuracy_scores.append(accuracy_score(y_pred, y_test))"
   ]
  },
  {
   "cell_type": "markdown",
   "metadata": {},
   "source": [
    "Once again, we plot a graph using matplotlib to compare accuracy between different K values."
   ]
  },
  {
   "cell_type": "code",
   "execution_count": 46,
   "metadata": {},
   "outputs": [
    {
     "data": {
      "image/png": "[encoded data removed]",
      "text/plain": [
       "<Figure size 432x288 with 1 Axes>"
      ]
     },
     "metadata": {
      "needs_background": "light"
     },
     "output_type": "display_data"
    }
   ],
   "source": [
    "plt.plot(k_range, distance_accuracy_scores)\n",
    "plt.xlabel('Value of K for KNN')\n",
    "plt.ylabel('Accuracy Score')\n",
    "plt.xticks(np.arange(1, 26))  # makes x-axis values integers\n",
    "plt.title(\"Accuracy Scores for KNN Classifier (distance weight function)\")\n",
    "plt.show()"
   ]
  },
  {
   "cell_type": "markdown",
   "metadata": {},
   "source": [
    "This time, it appears that $k=20$ produces the best accuracy score."
   ]
  },
  {
   "cell_type": "markdown",
   "metadata": {},
   "source": [
    "Finally, let us compare accuracy scores between the two different weight functions."
   ]
  },
  {
   "cell_type": "code",
   "execution_count": 49,
   "metadata": {},
   "outputs": [
    {
     "data": {
      "image/png": "[encoded data removed]",
      "text/plain": [
       "<Figure size 432x288 with 1 Axes>"
      ]
     },
     "metadata": {
      "needs_background": "light"
     },
     "output_type": "display_data"
    }
   ],
   "source": [
    "plt.plot(k_range, uniform_accuracy_scores, label='uniform')\n",
    "plt.plot(k_range, distance_accuracy_scores, label='distance')\n",
    "plt.xlabel('Value of K for KNN')\n",
    "plt.ylabel('Accuracy Score')\n",
    "plt.xticks(np.arange(1, 26))  # makes x-axis values integers\n",
    "plt.title(\"Accuracy Scores for KNN Classifier (both weight functions)\")\n",
    "plt.legend()\n",
    "plt.show()"
   ]
  },
  {
   "cell_type": "markdown",
   "metadata": {},
   "source": [
    "From the table above, we can see that the KNN Classifier model with the highest accuracy score is one where $k=20$ and the distance weight function is used. "
   ]
  },
  {
   "cell_type": "code",
   "execution_count": 54,
   "metadata": {},
   "outputs": [
    {
     "name": "stdout",
     "output_type": "stream",
     "text": [
      "0.7560975609756098\n"
     ]
    }
   ],
   "source": [
    "knn_classifier_best = KNeighborsClassifier(n_neighbors=20, weights='distance')\n",
    "knn_classifier_best.fit(X_train, y_train)\n",
    "y_pred = knn_classifier_best.predict(X_test)\n",
    "print(accuracy_score(y_test, y_pred))"
   ]
  },
  {
   "cell_type": "markdown",
   "metadata": {},
   "source": [
    "### Regression Models"
   ]
  },
  {
   "cell_type": "markdown",
   "metadata": {},
   "source": [
    "#### Model A (Change to name of model you are using e.g. K-Nearest Neighbors)"
   ]
  },
  {
   "cell_type": "code",
   "execution_count": 100,
   "metadata": {},
   "outputs": [
    {
     "name": "stdout",
     "output_type": "stream",
     "text": [
      "Blue root mean squared error: 2.357004788349705\n",
      "Blue r squared value: 0.7078191346130529\n",
      "Green root mean squared error: 2.1709547041184734\n",
      "Green r squared value: 0.7234077460984585\n",
      "Red root mean squared error: 1.9151131346254275\n",
      "Red r squared value: 0.7888690009046369\n"
     ]
    }
   ],
   "source": [
    "pH = df.label[:,np.newaxis]\n",
    "blue = df.blue[:,np.newaxis]\n",
    "green = df.green[:,np.newaxis]\n",
    "red = df.red[:,np.newaxis]\n",
    "\n",
    "\n",
    "polynomialfeatures = PolynomialFeatures(degree = 6)\n",
    "blue = polynomialfeatures.fit_transform(blue)\n",
    "green = polynomialfeatures.fit_transform(green)\n",
    "red = polynomialfeatures.fit_transform(red)\n",
    "\n",
    "blue_train, blue_test, pH_blue_train, pH_blue_test = train_test_split(blue,pH,test_size=0.2)\n",
    "green_train, green_test, pH_green_train, pH_green_test = train_test_split(blue,pH,test_size=0.2)\n",
    "red_train, red_test, pH_red_train, pH_red_test = train_test_split(blue,pH,test_size=0.2)\n",
    "\n",
    "\n",
    "bluemodel = LinearRegression()\n",
    "bluemodel.fit(blue_train,pH_blue_train)\n",
    "pH_blue_predict = bluemodel.predict(blue_test)\n",
    "\n",
    "greenmodel = LinearRegression()\n",
    "greenmodel.fit(green_train,pH_green_train)\n",
    "pH_green_predict = greenmodel.predict(green_test)\n",
    "\n",
    "redmodel = LinearRegression()\n",
    "redmodel.fit(red_train,pH_red_train)\n",
    "pH_red_predict = redmodel.predict(red_test)\n",
    "\n",
    "bluermse = np.sqrt(mean_squared_error(pH_blue_test,pH_blue_predict))\n",
    "bluer2 = r2_score(pH_blue_test,pH_blue_predict)\n",
    "\n",
    "greenrmse = np.sqrt(mean_squared_error(pH_green_test,pH_green_predict))\n",
    "greenr2 = r2_score(pH_green_test,pH_green_predict)\n",
    "\n",
    "redrmse = np.sqrt(mean_squared_error(pH_red_test,pH_red_predict))\n",
    "redr2 = r2_score(pH_red_test,pH_red_predict)\n",
    "\n",
    "print (\"Blue root mean squared error: \" + str(bluermse))\n",
    "print (\"Blue r squared value: \" + str(bluer2))\n",
    "print (\"Green root mean squared error: \" + str(greenrmse))\n",
    "print (\"Green r squared value: \" + str(greenr2))\n",
    "print (\"Red root mean squared error: \" + str(redrmse))\n",
    "print (\"Red r squared value: \" + str(redr2))"
   ]
  },
  {
   "cell_type": "code",
   "execution_count": 9,
   "metadata": {},
   "outputs": [
    {
     "name": "stdout",
     "output_type": "stream",
     "text": [
      "2.2131188622185234\n"
     ]
    }
   ],
   "source": [
    "lin_reg = LinearRegression()\n",
    "lin_reg.fit(X_train, y_train)\n",
    "y_pred = lin_reg.predict(X_test)\n",
    "rmse = sqrt(mean_squared_error(y_test, y_pred))\n",
    "print(rmse)"
   ]
  },
  {
   "cell_type": "markdown",
   "metadata": {},
   "source": [
    "## Final Model"
   ]
  },
  {
   "cell_type": "code",
   "execution_count": null,
   "metadata": {},
   "outputs": [],
   "source": []
  }
 ],
 "metadata": {
  "kernelspec": {
   "display_name": "Python 3",
   "language": "python",
   "name": "python3"
  },
  "language_info": {
   "codemirror_mode": {
    "name": "ipython",
    "version": 3
   },
   "file_extension": ".py",
   "mimetype": "text/x-python",
   "name": "python",
   "nbconvert_exporter": "python",
   "pygments_lexer": "ipython3",
   "version": "3.7.4"
  }
 },
 "nbformat": 4,
 "nbformat_minor": 2
}
