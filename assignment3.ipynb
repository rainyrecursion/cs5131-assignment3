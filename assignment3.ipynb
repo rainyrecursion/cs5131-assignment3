{
 "cells": [
  {
   "cell_type": "markdown",
   "metadata": {},
   "source": [
    "# CS5131 Assignment 3"
   ]
  },
  {
   "cell_type": "markdown",
   "metadata": {},
   "source": [
    "## Information\n",
    "**Problem description:** Placeholder\n",
    "\n",
    "**Objective:** Placeholder\n",
    "\n",
    "**Team members:** Li Yi Cheng (M20503) and Ranen Chow (M20504)\n",
    "\n",
    "**Methodology:** Supervised learning\n",
    "\n",
    "**Category:** Regression and Classification\n",
    "\n",
    "**Data:** [pH Recognition Data from Kaggle](https://www.kaggle.com/robjan/ph-recognition)"
   ]
  },
  {
   "cell_type": "markdown",
   "metadata": {},
   "source": [
    "## Import Libraries"
   ]
  },
  {
   "cell_type": "code",
   "execution_count": 2,
   "metadata": {},
   "outputs": [],
   "source": [
    "import numpy as np\n",
    "import pandas as pd\n",
    "import matplotlib.pyplot as plt\n",
    "%matplotlib inline\n",
    "\n",
    "from sklearn.model_selection import train_test_split\n",
    "from sklearn.linear_model import LinearRegression\n",
    "from sklearn.preprocessing import PolynomialFeatures\n",
    "from sklearn.metrics import mean_squared_error, r2_score, accuracy_score\n",
    "from sklearn.neighbors import KNeighborsClassifier, RadiusNeighborsClassifier\n",
    "from sklearn.svm import SVC\n",
    "from sklearn.gaussian_process import GaussianProcessClassifier\n",
    "from sklearn.tree import DecisionTreeClassifier\n",
    "from sklearn.ensemble import RandomForestClassifier\n",
    "\n",
    "from math import sqrt\n",
    "\n",
    "# Add any other libraries you are importing here later"
   ]
  },
  {
   "cell_type": "markdown",
   "metadata": {},
   "source": [
    "## Read Data"
   ]
  },
  {
   "cell_type": "code",
   "execution_count": 3,
   "metadata": {},
   "outputs": [
    {
     "data": {
      "text/html": [
       "<div>\n",
       "<style scoped>\n",
       "    .dataframe tbody tr th:only-of-type {\n",
       "        vertical-align: middle;\n",
       "    }\n",
       "\n",
       "    .dataframe tbody tr th {\n",
       "        vertical-align: top;\n",
       "    }\n",
       "\n",
       "    .dataframe thead th {\n",
       "        text-align: right;\n",
       "    }\n",
       "</style>\n",
       "<table border=\"1\" class=\"dataframe\">\n",
       "  <thead>\n",
       "    <tr style=\"text-align: right;\">\n",
       "      <th></th>\n",
       "      <th>blue</th>\n",
       "      <th>green</th>\n",
       "      <th>red</th>\n",
       "      <th>label</th>\n",
       "    </tr>\n",
       "  </thead>\n",
       "  <tbody>\n",
       "    <tr>\n",
       "      <td>0</td>\n",
       "      <td>36</td>\n",
       "      <td>27</td>\n",
       "      <td>231</td>\n",
       "      <td>0</td>\n",
       "    </tr>\n",
       "    <tr>\n",
       "      <td>1</td>\n",
       "      <td>36</td>\n",
       "      <td>84</td>\n",
       "      <td>250</td>\n",
       "      <td>1</td>\n",
       "    </tr>\n",
       "    <tr>\n",
       "      <td>2</td>\n",
       "      <td>37</td>\n",
       "      <td>164</td>\n",
       "      <td>255</td>\n",
       "      <td>2</td>\n",
       "    </tr>\n",
       "    <tr>\n",
       "      <td>3</td>\n",
       "      <td>22</td>\n",
       "      <td>205</td>\n",
       "      <td>255</td>\n",
       "      <td>3</td>\n",
       "    </tr>\n",
       "    <tr>\n",
       "      <td>4</td>\n",
       "      <td>38</td>\n",
       "      <td>223</td>\n",
       "      <td>221</td>\n",
       "      <td>4</td>\n",
       "    </tr>\n",
       "  </tbody>\n",
       "</table>\n",
       "</div>"
      ],
      "text/plain": [
       "   blue  green  red  label\n",
       "0    36     27  231      0\n",
       "1    36     84  250      1\n",
       "2    37    164  255      2\n",
       "3    22    205  255      3\n",
       "4    38    223  221      4"
      ]
     },
     "execution_count": 3,
     "metadata": {},
     "output_type": "execute_result"
    }
   ],
   "source": [
    "df = pd.read_csv(\"ph-data.csv\") # Place the csv file IN THE SAME FOLDER as this file\n",
    "df.head()"
   ]
  },
  {
   "cell_type": "code",
   "execution_count": 4,
   "metadata": {},
   "outputs": [
    {
     "data": {
      "text/html": [
       "<div>\n",
       "<style scoped>\n",
       "    .dataframe tbody tr th:only-of-type {\n",
       "        vertical-align: middle;\n",
       "    }\n",
       "\n",
       "    .dataframe tbody tr th {\n",
       "        vertical-align: top;\n",
       "    }\n",
       "\n",
       "    .dataframe thead th {\n",
       "        text-align: right;\n",
       "    }\n",
       "</style>\n",
       "<table border=\"1\" class=\"dataframe\">\n",
       "  <thead>\n",
       "    <tr style=\"text-align: right;\">\n",
       "      <th></th>\n",
       "      <th>blue</th>\n",
       "      <th>green</th>\n",
       "      <th>red</th>\n",
       "      <th>label</th>\n",
       "    </tr>\n",
       "  </thead>\n",
       "  <tbody>\n",
       "    <tr>\n",
       "      <td>count</td>\n",
       "      <td>653.000000</td>\n",
       "      <td>653.000000</td>\n",
       "      <td>653.000000</td>\n",
       "      <td>653.000000</td>\n",
       "    </tr>\n",
       "    <tr>\n",
       "      <td>mean</td>\n",
       "      <td>89.290965</td>\n",
       "      <td>130.094946</td>\n",
       "      <td>120.655436</td>\n",
       "      <td>7.055130</td>\n",
       "    </tr>\n",
       "    <tr>\n",
       "      <td>std</td>\n",
       "      <td>74.974850</td>\n",
       "      <td>72.487085</td>\n",
       "      <td>89.581264</td>\n",
       "      <td>4.287951</td>\n",
       "    </tr>\n",
       "    <tr>\n",
       "      <td>min</td>\n",
       "      <td>0.000000</td>\n",
       "      <td>0.000000</td>\n",
       "      <td>0.000000</td>\n",
       "      <td>0.000000</td>\n",
       "    </tr>\n",
       "    <tr>\n",
       "      <td>25%</td>\n",
       "      <td>22.000000</td>\n",
       "      <td>68.000000</td>\n",
       "      <td>52.000000</td>\n",
       "      <td>3.000000</td>\n",
       "    </tr>\n",
       "    <tr>\n",
       "      <td>50%</td>\n",
       "      <td>67.000000</td>\n",
       "      <td>146.000000</td>\n",
       "      <td>90.000000</td>\n",
       "      <td>7.000000</td>\n",
       "    </tr>\n",
       "    <tr>\n",
       "      <td>75%</td>\n",
       "      <td>162.000000</td>\n",
       "      <td>189.000000</td>\n",
       "      <td>224.000000</td>\n",
       "      <td>11.000000</td>\n",
       "    </tr>\n",
       "    <tr>\n",
       "      <td>max</td>\n",
       "      <td>255.000000</td>\n",
       "      <td>255.000000</td>\n",
       "      <td>255.000000</td>\n",
       "      <td>14.000000</td>\n",
       "    </tr>\n",
       "  </tbody>\n",
       "</table>\n",
       "</div>"
      ],
      "text/plain": [
       "             blue       green         red       label\n",
       "count  653.000000  653.000000  653.000000  653.000000\n",
       "mean    89.290965  130.094946  120.655436    7.055130\n",
       "std     74.974850   72.487085   89.581264    4.287951\n",
       "min      0.000000    0.000000    0.000000    0.000000\n",
       "25%     22.000000   68.000000   52.000000    3.000000\n",
       "50%     67.000000  146.000000   90.000000    7.000000\n",
       "75%    162.000000  189.000000  224.000000   11.000000\n",
       "max    255.000000  255.000000  255.000000   14.000000"
      ]
     },
     "execution_count": 4,
     "metadata": {},
     "output_type": "execute_result"
    }
   ],
   "source": [
    "df.describe(include='all')"
   ]
  },
  {
   "cell_type": "markdown",
   "metadata": {},
   "source": [
    "## Exploratory Data Analysis (EDA)"
   ]
  },
  {
   "cell_type": "code",
   "execution_count": null,
   "metadata": {},
   "outputs": [],
   "source": []
  },
  {
   "cell_type": "markdown",
   "metadata": {},
   "source": [
    "## Data Visualisation"
   ]
  },
  {
   "cell_type": "code",
   "execution_count": 5,
   "metadata": {
    "scrolled": true
   },
   "outputs": [
    {
     "data": {
      "image/png": "[encoded data removed]",
      "text/plain": [
       "<Figure size 432x288 with 3 Axes>"
      ]
     },
     "metadata": {
      "needs_background": "light"
     },
     "output_type": "display_data"
    }
   ],
   "source": [
    "fig, ax = plt.subplots(3)\n",
    "ax[0].scatter(df.label,df.blue)\n",
    "ax[1].scatter(df.label,df.green,color='green')\n",
    "ax[2].scatter(df.label,df.red,color='red')\n",
    "\n",
    "plt.show()"
   ]
  },
  {
   "cell_type": "markdown",
   "metadata": {},
   "source": [
    "## Splitting Data for Training and Testing"
   ]
  },
  {
   "cell_type": "code",
   "execution_count": 6,
   "metadata": {},
   "outputs": [],
   "source": [
    "X = df.drop('label', axis=1).values\n",
    "y = df['label'].values\n",
    "\n",
    "X_train, X_test, y_train, y_test = train_test_split(X, y, random_state=1, stratify=y)"
   ]
  },
  {
   "cell_type": "markdown",
   "metadata": {},
   "source": [
    "## Testing Different Machine Learning (ML) Models\n",
    "Since the problem can be formulated as a classification problem or a regression problem, we try both classification models and regression models."
   ]
  },
  {
   "cell_type": "markdown",
   "metadata": {},
   "source": [
    "### Classification Models"
   ]
  },
  {
   "cell_type": "markdown",
   "metadata": {},
   "source": [
    "#### K-Nearest Neighbors Classifier"
   ]
  },
  {
   "cell_type": "markdown",
   "metadata": {},
   "source": [
    "**Firstly,** we try different k-values, using the *uniform* (the default) weights function."
   ]
  },
  {
   "cell_type": "code",
   "execution_count": null,
   "metadata": {},
   "outputs": [],
   "source": [
    "k_range = range(1, 26)\n",
    "uniform_accuracy_scores = []\n",
    "\n",
    "for k in k_range:\n",
    "    knn = KNeighborsClassifier(n_neighbors=k)\n",
    "    knn.fit(X_train, y_train)\n",
    "    y_pred = knn.predict(X_test)\n",
    "    uniform_accuracy_scores.append(accuracy_score(y_pred, y_test))"
   ]
  },
  {
   "cell_type": "markdown",
   "metadata": {},
   "source": [
    "We plot a graph using matplotlib to compare accuracy between different K values."
   ]
  },
  {
   "cell_type": "code",
   "execution_count": null,
   "metadata": {},
   "outputs": [],
   "source": [
    "plt.plot(k_range, uniform_accuracy_scores)\n",
    "plt.xlabel('Value of K for KNN')\n",
    "plt.ylabel('Accuracy Score')\n",
    "plt.xticks(np.arange(1, 26))  # makes x-axis values integers\n",
    "plt.title(\"Accuracy Scores for KNN Classifier (uniform weight function)\")\n",
    "plt.show()"
   ]
  },
  {
   "cell_type": "markdown",
   "metadata": {},
   "source": [
    "It appears that a k value of 4 produces the highest accuracy."
   ]
  },
  {
   "cell_type": "markdown",
   "metadata": {},
   "source": [
    "**Secondly,** we try changing the weight function to *'distance'*. This means that the model will \"weight points by the inverse of their distance.... closer neighbors of a query point will have a greater influence than neighbors which are further away.\" (Source: [sklearn.neighbors.KNeighborsClassifier documentation](https://scikit-learn.org/stable/modules/generated/sklearn.neighbors.KNeighborsClassifier.html#sklearn.neighbors.KNeighborsClassifier))\n",
    "\n",
    "The models made above used a uniform (the default) weights function."
   ]
  },
  {
   "cell_type": "code",
   "execution_count": null,
   "metadata": {},
   "outputs": [],
   "source": [
    "distance_accuracy_scores = []\n",
    "\n",
    "for k in k_range:\n",
    "    knn = KNeighborsClassifier(n_neighbors=k, weights='distance')\n",
    "    knn.fit(X_train, y_train)\n",
    "    y_pred = knn.predict(X_test)\n",
    "    distance_accuracy_scores.append(accuracy_score(y_pred, y_test))"
   ]
  },
  {
   "cell_type": "markdown",
   "metadata": {},
   "source": [
    "Once again, we plot a graph using matplotlib to compare accuracy between different K values."
   ]
  },
  {
   "cell_type": "code",
   "execution_count": null,
   "metadata": {},
   "outputs": [],
   "source": [
    "plt.plot(k_range, distance_accuracy_scores)\n",
    "plt.xlabel('Value of K for KNN')\n",
    "plt.ylabel('Accuracy Score')\n",
    "plt.xticks(np.arange(1, 26))  # makes x-axis values integers\n",
    "plt.title(\"Accuracy Scores for KNN Classifier (distance weight function)\")\n",
    "plt.show()"
   ]
  },
  {
   "cell_type": "markdown",
   "metadata": {},
   "source": [
    "This time, it appears that $k=20$ produces the best accuracy score."
   ]
  },
  {
   "cell_type": "markdown",
   "metadata": {},
   "source": [
    "Finally, let us compare accuracy scores between the two different weight functions."
   ]
  },
  {
   "cell_type": "code",
   "execution_count": null,
   "metadata": {},
   "outputs": [],
   "source": [
    "plt.plot(k_range, uniform_accuracy_scores, label='uniform')\n",
    "plt.plot(k_range, distance_accuracy_scores, label='distance')\n",
    "plt.xlabel('Value of K for KNN')\n",
    "plt.ylabel('Accuracy Score')\n",
    "plt.xticks(np.arange(1, 26))  # makes x-axis values integers\n",
    "plt.title(\"Accuracy Scores for KNN Classifier (both weight functions)\")\n",
    "plt.legend()\n",
    "plt.show()"
   ]
  },
  {
   "cell_type": "markdown",
   "metadata": {},
   "source": [
    "From the table above, we can see that the KNN Classifier model with the highest accuracy score is one where $k=20$ and the distance weight function is used. "
   ]
  },
  {
   "cell_type": "code",
   "execution_count": null,
   "metadata": {},
   "outputs": [],
   "source": [
    "knn_classifier_best = KNeighborsClassifier(n_neighbors=20, weights='distance')\n",
    "knn_classifier_best.fit(X_train, y_train)\n",
    "y_pred = knn_classifier_best.predict(X_test)\n",
    "print(accuracy_score(y_test, y_pred))"
   ]
  },
  {
   "cell_type": "markdown",
   "metadata": {},
   "source": [
    "#### SVC"
   ]
  },
  {
   "cell_type": "markdown",
   "metadata": {},
   "source": [
    "Firstly, we try linear kernel type."
   ]
  },
  {
   "cell_type": "code",
   "execution_count": 8,
   "metadata": {},
   "outputs": [
    {
     "name": "stdout",
     "output_type": "stream",
     "text": [
      "Accuracy score for linear kernal type is 0.6097560975609756\n"
     ]
    }
   ],
   "source": [
    "# LINEAR KERNEL\n",
    "svc_linear = SVC(kernel='linear')\n",
    "svc_linear.fit(X_train, y_train)\n",
    "y_pred = svc_linear.predict(X_test)\n",
    "print(\"Accuracy score for linear kernal type is\", accuracy_score(y_test, y_pred))"
   ]
  },
  {
   "cell_type": "markdown",
   "metadata": {},
   "source": [
    "Secondly, we try poly kernel type. We look at different degrees."
   ]
  },
  {
   "cell_type": "code",
   "execution_count": 20,
   "metadata": {},
   "outputs": [
    {
     "name": "stdout",
     "output_type": "stream",
     "text": [
      "Accuracy score for poly kernal type with degree 2 is 0.6463414634146342\n",
      "Accuracy score for poly kernal type with degree 3 is 0.725609756097561\n",
      "Accuracy score for poly kernal type with degree 4 is 0.7134146341463414\n",
      "Accuracy score for poly kernal type with degree 5 is 0.7134146341463414\n",
      "Accuracy score for poly kernal type with degree 6 is 0.7012195121951219\n",
      "Accuracy score for poly kernal type with degree 7 is 0.7012195121951219\n"
     ]
    }
   ],
   "source": [
    "degree_range = range(2, 8)\n",
    "\n",
    "for d in degree_range:\n",
    "    svc_poly = SVC(kernel='poly', degree=d, gamma='scale')\n",
    "    svc_poly.fit(X_train, y_train)\n",
    "    y_pred = svc_poly.predict(X_test)\n",
    "    print(\"Accuracy score for poly kernal type with degree\", d, \"is\", accuracy_score(y_test, y_pred))"
   ]
  },
  {
   "cell_type": "markdown",
   "metadata": {},
   "source": [
    "Thirdly, we try rbf kernel type."
   ]
  },
  {
   "cell_type": "code",
   "execution_count": 10,
   "metadata": {},
   "outputs": [
    {
     "name": "stdout",
     "output_type": "stream",
     "text": [
      "Accuracy score for rbf kernal type is 0.676829268292683\n"
     ]
    }
   ],
   "source": [
    "svc_rbf = SVC(kernel='rbf', gamma='scale')\n",
    "svc_rbf.fit(X_train, y_train)\n",
    "y_pred = svc_rbf.predict(X_test)\n",
    "print(\"Accuracy score for rbf kernal type is\", accuracy_score(y_test, y_pred))"
   ]
  },
  {
   "cell_type": "markdown",
   "metadata": {},
   "source": [
    "Fourthly, we try sigmoid kernel type."
   ]
  },
  {
   "cell_type": "code",
   "execution_count": 14,
   "metadata": {},
   "outputs": [
    {
     "name": "stdout",
     "output_type": "stream",
     "text": [
      "Accuracy score for sigmoid kernal type is 0.07317073170731707\n"
     ]
    }
   ],
   "source": [
    "svc_sigmoid = SVC(kernel='sigmoid', gamma='scale')\n",
    "svc_sigmoid.fit(X_train, y_train)\n",
    "y_pred = svc_sigmoid.predict(X_test)\n",
    "print(\"Accuracy score for sigmoid kernal type is\", accuracy_score(y_test, y_pred))"
   ]
  },
  {
   "cell_type": "markdown",
   "metadata": {},
   "source": [
    "As we can see, the best SVC model is one with poly kernel type with a degree of 3."
   ]
  },
  {
   "cell_type": "code",
   "execution_count": 22,
   "metadata": {},
   "outputs": [
    {
     "name": "stdout",
     "output_type": "stream",
     "text": [
      "0.725609756097561\n"
     ]
    }
   ],
   "source": [
    "svc_best = SVC(kernel='poly', degree=3, gamma='scale')\n",
    "svc_best.fit(X_train, y_train)\n",
    "y_pred = svc_best.predict(X_test)\n",
    "print(accuracy_score(y_test, y_pred))"
   ]
  },
  {
   "cell_type": "markdown",
   "metadata": {},
   "source": [
    "#### Gaussian Process Classification"
   ]
  },
  {
   "cell_type": "code",
   "execution_count": 30,
   "metadata": {},
   "outputs": [
    {
     "name": "stdout",
     "output_type": "stream",
     "text": [
      "0.6402439024390244\n"
     ]
    }
   ],
   "source": [
    "gpc = GaussianProcessClassifier()\n",
    "gpc.fit(X_train, y_train)\n",
    "y_pred = gpc.predict(X_test)\n",
    "print(accuracy_score(y_test, y_pred))"
   ]
  },
  {
   "cell_type": "markdown",
   "metadata": {},
   "source": [
    "#### Decision Tree Classifier"
   ]
  },
  {
   "cell_type": "markdown",
   "metadata": {},
   "source": [
    "Firstly, we make a Decision Tree Classifier such that \"nodes are expanded until all leaves are pure or until all leaves contain less than min_samples_split samples\" (Source: [sklearn.tree.DecisionTreeClassifier documentation](https://scikit-learn.org/stable/modules/generated/sklearn.tree.DecisionTreeClassifier.html#sklearn.tree.DecisionTreeClassifier)) by using the default value of `max_depth` (i.e. `None`)."
   ]
  },
  {
   "cell_type": "code",
   "execution_count": 34,
   "metadata": {},
   "outputs": [
    {
     "name": "stdout",
     "output_type": "stream",
     "text": [
      "0.725609756097561\n"
     ]
    }
   ],
   "source": [
    "dtc_default = DecisionTreeClassifier()\n",
    "dtc_default.fit(X_train, y_train)\n",
    "y_pred = dtc_default.predict(X_test)\n",
    "print(accuracy_score(y_test, y_pred))"
   ]
  },
  {
   "cell_type": "markdown",
   "metadata": {},
   "source": [
    "Next, we try different `max_depth` values."
   ]
  },
  {
   "cell_type": "code",
   "execution_count": 44,
   "metadata": {},
   "outputs": [],
   "source": [
    "max_depth_range = range(1, 21)\n",
    "accuracy_scores = []\n",
    "\n",
    "for md in max_depth_range:\n",
    "    dtc = DecisionTreeClassifier(max_depth=md)\n",
    "    dtc.fit(X_train, y_train)\n",
    "    y_pred = dtc.predict(X_test)\n",
    "    accuracy_scores.append(accuracy_score(y_test, y_pred))"
   ]
  },
  {
   "cell_type": "markdown",
   "metadata": {},
   "source": [
    "Now, let us plot a graph showing how accuracy score changes with max depth."
   ]
  },
  {
   "cell_type": "code",
   "execution_count": 45,
   "metadata": {},
   "outputs": [
    {
     "data": {
      "image/png": "[encoded data removed]",
      "text/plain": [
       "<Figure size 432x288 with 1 Axes>"
      ]
     },
     "metadata": {
      "needs_background": "light"
     },
     "output_type": "display_data"
    }
   ],
   "source": [
    "plt.plot(max_depth_range, accuracy_scores)\n",
    "plt.xlabel('Max Depth')\n",
    "plt.ylabel('Accuracy Score')\n",
    "plt.xticks(np.arange(1, 21))  # makes x-axis values integers\n",
    "plt.title(\"Accuracy Scores for Decision Tree Classifier\")\n",
    "plt.show()"
   ]
  },
  {
   "cell_type": "markdown",
   "metadata": {},
   "source": [
    "From the graph, the best `max_depth` value is 7."
   ]
  },
  {
   "cell_type": "code",
   "execution_count": 41,
   "metadata": {},
   "outputs": [
    {
     "name": "stdout",
     "output_type": "stream",
     "text": [
      "0.7560975609756098\n"
     ]
    }
   ],
   "source": [
    "dtc_best = DecisionTreeClassifier(max_depth=7)\n",
    "dtc_best.fit(X_train, y_train)\n",
    "y_pred = dtc_best.predict(X_test)\n",
    "print(accuracy_score(y_test, y_pred))"
   ]
  },
  {
   "cell_type": "markdown",
   "metadata": {},
   "source": [
    "As you can see, setting `max_depth=7` results in a higher accuracy score than the default value of `max_depth`."
   ]
  },
  {
   "cell_type": "markdown",
   "metadata": {},
   "source": [
    "#### Random Forest Classifier"
   ]
  },
  {
   "cell_type": "markdown",
   "metadata": {},
   "source": [
    "First, we try different numbers of trees in the forest. "
   ]
  },
  {
   "cell_type": "code",
   "execution_count": 65,
   "metadata": {},
   "outputs": [
    {
     "name": "stdout",
     "output_type": "stream",
     "text": [
      "96 0.7865853658536586\n"
     ]
    }
   ],
   "source": [
    "n_estimators_range = range(5, 101)\n",
    "accuracy_scores = []\n",
    "\n",
    "for ne in n_estimators_range:\n",
    "    rfc = RandomForestClassifier(n_estimators=ne)\n",
    "    rfc.fit(X_train, y_train)\n",
    "    y_pred = rfc.predict(X_test)\n",
    "    accuracy_scores.append(accuracy_score(y_test, y_pred))\n",
    "    \n",
    "max_accuracy_score = max(accuracy_scores)\n",
    "best_n_estimators = n_estimators_range[accuracy_scores.index(max_accuracy_score)]\n",
    "print(best_n_estimators, max_accuracy_score)"
   ]
  },
  {
   "cell_type": "code",
   "execution_count": 60,
   "metadata": {},
   "outputs": [
    {
     "data": {
      "image/png": "[encoded data removed]",
      "text/plain": [
       "<Figure size 432x288 with 1 Axes>"
      ]
     },
     "metadata": {
      "needs_background": "light"
     },
     "output_type": "display_data"
    }
   ],
   "source": [
    "plt.plot(n_estimators_range, accuracy_scores)\n",
    "plt.show()"
   ]
  },
  {
   "cell_type": "markdown",
   "metadata": {},
   "source": [
    "### Regression Models"
   ]
  },
  {
   "cell_type": "markdown",
   "metadata": {},
   "source": [
    "#### Polynomial Regression model of pH against each colors respectively"
   ]
  },
  {
   "cell_type": "markdown",
   "metadata": {},
   "source": [
    "First we will plot 3 seperate polynomial regression models for pH against blue, green and red respectively, to find out if pH can be predicted using only one of the colors (the process of finding the best degree for polynomial fit will be omitted for this example)"
   ]
  },
  {
   "cell_type": "code",
   "execution_count": 7,
   "metadata": {},
   "outputs": [
    {
     "name": "stdout",
     "output_type": "stream",
     "text": [
      "Blue root mean squared error: 1.7102665623332074\n",
      "Blue r squared value: 0.8439349885336602\n",
      "Green root mean squared error: 2.1245286051953207\n",
      "Green r squared value: 0.7346720025352814\n",
      "Red root mean squared error: 2.132447435090024\n",
      "Red r squared value: 0.7444032152670537\n"
     ]
    }
   ],
   "source": [
    "pH = df.label[:,np.newaxis]\n",
    "blue = df.blue[:,np.newaxis]\n",
    "green = df.green[:,np.newaxis]\n",
    "red = df.red[:,np.newaxis]\n",
    "\n",
    "\n",
    "polynomialfeatures = PolynomialFeatures(degree = 6)\n",
    "blue = polynomialfeatures.fit_transform(blue)\n",
    "green = polynomialfeatures.fit_transform(green)\n",
    "red = polynomialfeatures.fit_transform(red)\n",
    "\n",
    "blue_train, blue_test, pH_blue_train, pH_blue_test = train_test_split(blue,pH,test_size=0.2)\n",
    "green_train, green_test, pH_green_train, pH_green_test = train_test_split(blue,pH,test_size=0.2)\n",
    "red_train, red_test, pH_red_train, pH_red_test = train_test_split(blue,pH,test_size=0.2)\n",
    "\n",
    "\n",
    "bluemodel = LinearRegression()\n",
    "bluemodel.fit(blue_train,pH_blue_train)\n",
    "pH_blue_predict = bluemodel.predict(blue_test)\n",
    "\n",
    "greenmodel = LinearRegression()\n",
    "greenmodel.fit(green_train,pH_green_train)\n",
    "pH_green_predict = greenmodel.predict(green_test)\n",
    "\n",
    "redmodel = LinearRegression()\n",
    "redmodel.fit(red_train,pH_red_train)\n",
    "pH_red_predict = redmodel.predict(red_test)\n",
    "\n",
    "bluermse = np.sqrt(mean_squared_error(pH_blue_test,pH_blue_predict))\n",
    "bluer2 = r2_score(pH_blue_test,pH_blue_predict)\n",
    "\n",
    "greenrmse = np.sqrt(mean_squared_error(pH_green_test,pH_green_predict))\n",
    "greenr2 = r2_score(pH_green_test,pH_green_predict)\n",
    "\n",
    "redrmse = np.sqrt(mean_squared_error(pH_red_test,pH_red_predict))\n",
    "redr2 = r2_score(pH_red_test,pH_red_predict)\n",
    "\n",
    "print (\"Blue root mean squared error: \" + str(bluermse))\n",
    "print (\"Blue r squared value: \" + str(bluer2))\n",
    "print (\"Green root mean squared error: \" + str(greenrmse))\n",
    "print (\"Green r squared value: \" + str(greenr2))\n",
    "print (\"Red root mean squared error: \" + str(redrmse))\n",
    "print (\"Red r squared value: \" + str(redr2))"
   ]
  },
  {
   "cell_type": "markdown",
   "metadata": {},
   "source": [
    "Although the r squared values may seem good, this method of predicting pH is flawed as according to graphs plotted previously the graph of each color against pH is not a one to one function, which means it is impossible to predict pH using only one color"
   ]
  },
  {
   "cell_type": "markdown",
   "metadata": {},
   "source": [
    "#### Linear Regression model of pH against all 3 colors"
   ]
  },
  {
   "cell_type": "markdown",
   "metadata": {},
   "source": [
    "Hence we will now attempt to fit a linear regression model to all 3 independent variables (colors) and dependent variable (pH)"
   ]
  },
  {
   "cell_type": "code",
   "execution_count": 17,
   "metadata": {},
   "outputs": [
    {
     "name": "stdout",
     "output_type": "stream",
     "text": [
      "Root mean squared error: 2.4151494092561157\n",
      "R squared value: 0.6843624018223358\n"
     ]
    }
   ],
   "source": [
    "lin_reg = LinearRegression()\n",
    "lin_reg.fit(X_train, y_train)\n",
    "y_pred = lin_reg.predict(X_test)\n",
    "rmse = sqrt(mean_squared_error(y_pred, y_test))\n",
    "r2 = r2_score(y_pred, y_test)\n",
    "print(\"Root mean squared error: \" + str(rmse))\n",
    "print(\"R squared value: \" + str(r2))"
   ]
  },
  {
   "cell_type": "markdown",
   "metadata": {},
   "source": [
    "The R squared value seems to be unsatisfactory. It might indicate that the trend is non linear. Hence, we will try to fit n degree polynomial regression model to the dataset."
   ]
  },
  {
   "cell_type": "markdown",
   "metadata": {},
   "source": [
    "#### Polynomial Regression model of pH against all 3 colors"
   ]
  },
  {
   "cell_type": "markdown",
   "metadata": {},
   "source": [
    "Here we will fit degree 2 to 15 polynomial regression model to the data and plot a graph of root mean squared error and r squared to see what degree of polynomial will give the best fit. "
   ]
  },
  {
   "cell_type": "code",
   "execution_count": 24,
   "metadata": {},
   "outputs": [
    {
     "name": "stdout",
     "output_type": "stream",
     "text": [
      "Degree Processed: 1\n",
      "Degree Processed: 2\n",
      "Degree Processed: 3\n",
      "Degree Processed: 4\n",
      "Degree Processed: 5\n",
      "Degree Processed: 6\n",
      "Degree Processed: 7\n",
      "Degree Processed: 8\n",
      "Degree Processed: 9\n",
      "Degree Processed: 10\n",
      "Degree Processed: 11\n",
      "Degree Processed: 12\n",
      "Degree Processed: 13\n",
      "Degree Processed: 14\n",
      "Degree Processed: 15\n"
     ]
    }
   ],
   "source": [
    "rmse = []\n",
    "r2 = []\n",
    "index = []\n",
    "for n in range (1, 16):\n",
    "    polynomialfeatures = PolynomialFeatures(degree = n)\n",
    "    X_poly_test = polynomialfeatures.fit_transform(X_test)\n",
    "    X_poly_train = polynomialfeatures.fit_transform(X_train)\n",
    "    model = LinearRegression()\n",
    "    model.fit(X_poly_train,y_train)\n",
    "    y_pred = model.predict(X_poly_test)\n",
    "    rmse.append(sqrt(mean_squared_error(y_pred, y_test)))\n",
    "    r2.append(r2_score(y_pred, y_test))\n",
    "    index.append(n)\n",
    "    print (\"Degree Processed: \" + str(n))\n",
    "    "
   ]
  },
  {
   "cell_type": "markdown",
   "metadata": {},
   "source": [
    "Let's plot a graph of root mean squared error and r squared against degree of polynomial. "
   ]
  },
  {
   "cell_type": "code",
   "execution_count": 25,
   "metadata": {},
   "outputs": [
    {
     "name": "stdout",
     "output_type": "stream",
     "text": [
      "Root mean squared values: [2.4151494092561157, 1.5792358902350634, 1.265336749847097, 1.4143388836303608, 2.50872216072883, 2.422780704944803, 5.718097509800888, 16.999023069301554, 67.69702060531829, 398.35363510708345, 615.1664161106514, 5786.133036187842, 20578.99358295347, 61800.88353208856, 609210.0065248788]\n",
      "R squared values: [0.5265527942004771, 0.8368029291579793, 0.9049332525550073, 0.8993685097550372, 0.7133858528719639, 0.7464177066162871, 0.27340460726105054, 0.07912541387772187, 0.009104590529964929, -0.007978237893649709, -0.007673517090840187, -0.0016413755928816887, -0.010801781771326846, -2.9206483123322968e-05, -0.008423963902085774]\n"
     ]
    },
    {
     "name": "stderr",
     "output_type": "stream",
     "text": [
      "C:\\Users\\User\\Anaconda3\\lib\\site-packages\\ipykernel_launcher.py:8: RuntimeWarning: invalid value encountered in sqrt\n",
      "  \n"
     ]
    },
    {
     "data": {
      "image/png": "[encoded data removed]",
      "text/plain": [
       "<Figure size 432x288 with 3 Axes>"
      ]
     },
     "metadata": {
      "needs_background": "light"
     },
     "output_type": "display_data"
    }
   ],
   "source": [
    "fig, ax = plt.subplots(3)\n",
    "print (\"Root mean squared values: \" + str(rmse))\n",
    "print (\"R squared values: \" + str(r2))\n",
    "ax[0].plot(index,rmse)\n",
    "ax[0].set_title(\"Root mean squared values\")\n",
    "ax[1].plot(index,r2)\n",
    "ax[1].set_title(\"R squared\")\n",
    "ax[2].plot(index,np.sqrt(r2))\n",
    "ax[2].set_title(\"R\")\n",
    "\n",
    "\n",
    "plt.show()"
   ]
  },
  {
   "cell_type": "markdown",
   "metadata": {},
   "source": [
    "Assumption: Random state = 1 in train test split\n",
    "\n",
    "For a good model, the RMSE should be close to zero while the R squared value should be a positive value that is close to one. According to the graph and the data printed, the degree that has the best R squared value is 3 while the degree that has the best RMSE is also 3. After degree 6, due to overfitting, the model become horrible as seen by the rapidly increasing RMSE and decreasing R squared value. From degree 10 onwards, r squared becomes negative, which means the dataset cannot be explained by the n degree polynomial regression model at all."
   ]
  },
  {
   "cell_type": "markdown",
   "metadata": {},
   "source": [
    "In conclusion, polynomial regression with a degree of 2 to 5 is a good model, with degree 3 being the best. Beyond degree 6, overfitting occurs which eventually causes extreme RMSE values."
   ]
  },
  {
   "cell_type": "markdown",
   "metadata": {},
   "source": [
    "## Final Model"
   ]
  },
  {
   "cell_type": "code",
   "execution_count": null,
   "metadata": {},
   "outputs": [],
   "source": []
  }
 ],
 "metadata": {
  "kernelspec": {
   "display_name": "Python 3",
   "language": "python",
   "name": "python3"
  },
  "language_info": {
   "codemirror_mode": {
    "name": "ipython",
    "version": 3
   },
   "file_extension": ".py",
   "mimetype": "text/x-python",
   "name": "python",
   "nbconvert_exporter": "python",
   "pygments_lexer": "ipython3",
   "version": "3.7.4"
  }
 },
 "nbformat": 4,
 "nbformat_minor": 2
}
